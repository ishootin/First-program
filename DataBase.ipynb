{
 "cells": [
  {
   "cell_type": "code",
   "execution_count": 13,
   "metadata": {},
   "outputs": [
    {
     "name": "stdout",
     "output_type": "stream",
     "text": [
      "1 - Добавление\n",
      "2 - Получение\n",
      "3 - Удаление\n"
     ]
    },
    {
     "name": "stdin",
     "output_type": "stream",
     "text": [
      ">  1\n",
      "Surname?\n",
      "  }'; drop table gruppa_101;--'\n",
      "Name?\n",
      "  fdsfs\n",
      "Subject?\n",
      "  hdhs\n",
      "Offset?(True or False)\n",
      "  646\n",
      "Date of the offset?\n",
      "  hhdhd\n"
     ]
    },
    {
     "ename": "OperationalError",
     "evalue": "near \";\": syntax error",
     "output_type": "error",
     "traceback": [
      "\u001b[1;31m---------------------------------------------------------------------------\u001b[0m",
      "\u001b[1;31mOperationalError\u001b[0m                          Traceback (most recent call last)",
      "\u001b[1;32m<ipython-input-13-13947fec78f7>\u001b[0m in \u001b[0;36m<module>\u001b[1;34m\u001b[0m\n\u001b[0;32m     31\u001b[0m         \u001b[0moffset\u001b[0m \u001b[1;33m=\u001b[0m \u001b[0mguard\u001b[0m\u001b[1;33m(\u001b[0m\u001b[0minput\u001b[0m \u001b[1;33m(\u001b[0m\u001b[1;34m\"Offset?(True or False)\\n \"\u001b[0m\u001b[1;33m)\u001b[0m\u001b[1;33m)\u001b[0m\u001b[1;33m\u001b[0m\u001b[1;33m\u001b[0m\u001b[0m\n\u001b[0;32m     32\u001b[0m         \u001b[0mdate\u001b[0m \u001b[1;33m=\u001b[0m \u001b[0mguard\u001b[0m\u001b[1;33m(\u001b[0m\u001b[0minput\u001b[0m\u001b[1;33m(\u001b[0m\u001b[1;34m\"Date of the offset?\\n \"\u001b[0m\u001b[1;33m)\u001b[0m\u001b[1;33m)\u001b[0m\u001b[1;33m\u001b[0m\u001b[1;33m\u001b[0m\u001b[0m\n\u001b[1;32m---> 33\u001b[1;33m         \u001b[0mcur\u001b[0m\u001b[1;33m.\u001b[0m\u001b[0mexecute\u001b[0m\u001b[1;33m(\u001b[0m\u001b[1;34mf\"insert into 'gruppa_101' values ('{surname}', '{name}', '{subject}','{offset}', '{date}')\"\u001b[0m\u001b[1;33m)\u001b[0m\u001b[1;33m\u001b[0m\u001b[1;33m\u001b[0m\u001b[0m\n\u001b[0m\u001b[0;32m     34\u001b[0m     \u001b[1;32melif\u001b[0m \u001b[0mchoice\u001b[0m \u001b[1;33m==\u001b[0m \u001b[1;36m2\u001b[0m\u001b[1;33m:\u001b[0m\u001b[1;33m\u001b[0m\u001b[1;33m\u001b[0m\u001b[0m\n\u001b[0;32m     35\u001b[0m         \u001b[0mcur\u001b[0m\u001b[1;33m.\u001b[0m\u001b[0mexecute\u001b[0m\u001b[1;33m(\u001b[0m\u001b[1;34m\"select * from 'gruppa_101' order by surname\"\u001b[0m\u001b[1;33m)\u001b[0m\u001b[1;33m\u001b[0m\u001b[1;33m\u001b[0m\u001b[0m\n",
      "\u001b[1;31mOperationalError\u001b[0m: near \";\": syntax error"
     ]
    }
   ],
   "source": [
    "import sqlite3 as sql\n",
    "\n",
    "\n",
    "#Вариант реализации защиты от инъекций мне подсказал Сергей\n",
    "def guard(x):\n",
    "    a = []\n",
    "    for i in range(len(x)):\n",
    "        a.append(x[i])\n",
    "    for i in range(len(x)):\n",
    "        if a[i] == \";\" or a[i] == \"-\" or a[i] == \"*\" or a[i] == \"'\" or a[i] == '#' or a[i] == \"\":\n",
    "            a[i] = \"\"\n",
    "    for i in range(len(x)):\n",
    "        x += a[i]\n",
    "    return x\n",
    "\n",
    "#Создаем локальную базу данных\n",
    "print(\"1 - Добавление\\n2 - Получение\\n3 - Удаление\")\n",
    "choice = int(input(\"> \"))\n",
    "conn = sql.connect('AUstudents.sql')\n",
    "\n",
    "with conn:\n",
    "    cur = conn.cursor()                          #Оставляю тип данных по умолчанию, потому что зачем его менять?\n",
    "    cur.execute(\"create table if not exists'gruppa_101' ('surname', 'name', 'subject', 'offset','date')\")\n",
    "    #Создаем таблицу в базе данных\n",
    "\n",
    "    #Без функции \"guard\" БД была неустойчива к инъекциям, например }'; drop table gruppa_101;--'\n",
    "    if choice == 1:\n",
    "        surname = guard(input(\"Surname?\\n \"))\n",
    "        name = guard(input(\"Name?\\n \"))\n",
    "        subject = guard(input(\"Subject?\\n \"))    #1-Вводим данные одного ученика по одному предмету\n",
    "        offset = guard(input (\"Offset?(True or False)\\n \"))\n",
    "        date = guard(input(\"Date of the offset?\\n \"))\n",
    "        cur.execute(f\"insert into 'gruppa_101' values ('{surname}', '{name}', '{subject}','{offset}', '{date}')\")\n",
    "    elif choice == 2:\n",
    "        cur.execute(\"select * from 'gruppa_101' order by surname\")\n",
    "        rows = cur.fetchall()   #2-Выводим данные таблицы, отсортированные по фамилии (по алфавиту)\n",
    "        for row in rows:\n",
    "            print(row[0], row[1], row[2], row[3], row[4])\n",
    "    elif choice == 3:\n",
    "        cur.execute(\"delete from gruppa_101\")\n",
    "        print(\"Вы очистили все данные в таблице\")   #3-осуществить возможность с консоли вводить, что удалять, у меня не получилось\n",
    "    else:\n",
    "        print(\"Вы ошиблись\")\n",
    "\n",
    "    conn.commit()\n",
    "    cur.close()"
   ]
  },
  {
   "cell_type": "code",
   "execution_count": null,
   "metadata": {},
   "outputs": [],
   "source": []
  },
  {
   "cell_type": "code",
   "execution_count": null,
   "metadata": {},
   "outputs": [],
   "source": []
  },
  {
   "cell_type": "code",
   "execution_count": null,
   "metadata": {},
   "outputs": [],
   "source": []
  }
 ],
 "metadata": {
  "kernelspec": {
   "display_name": "Python 3",
   "language": "python",
   "name": "python3"
  },
  "language_info": {
   "codemirror_mode": {
    "name": "ipython",
    "version": 3
   },
   "file_extension": ".py",
   "mimetype": "text/x-python",
   "name": "python",
   "nbconvert_exporter": "python",
   "pygments_lexer": "ipython3",
   "version": "3.8.0"
  }
 },
 "nbformat": 4,
 "nbformat_minor": 4
}
