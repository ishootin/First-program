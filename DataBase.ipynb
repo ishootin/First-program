{
 "cells": [
  {
   "cell_type": "code",
   "execution_count": 13,
   "metadata": {},
   "outputs": [
    {
     "name": "stdout",
     "output_type": "stream",
     "text": [
      "1 - Добавление\n",
      "2 - Получение\n",
      "3 - Удаление\n"
     ]
    },
    {
     "name": "stdin",
     "output_type": "stream",
     "text": [
      ">  2\n"
     ]
    },
    {
     "name": "stdout",
     "output_type": "stream",
     "text": [
      ":fkdl :;}fkdlfkdl l;l; .fld;d gklfd\n",
      "fg fgf subject offset date\n",
      "}hjhk ;gjhg uiu fgh op\n"
     ]
    }
   ],
   "source": [
    "import sqlite3 as sql\n",
    "\n",
    "\n",
    "#Вариант реализации защиты от инъекций мне подсказал Сергей\n",
    "\n",
    "#Создаем локальную базу данных\n",
    "print(\"1 - Добавление\\n2 - Получение\\n3 - Удаление\")\n",
    "choice = int(input(\"> \"))\n",
    "conn = sql.connect('AUstudents.sql')\n",
    "\n",
    "with conn:\n",
    "    cur = conn.cursor()                          #Оставляю тип данных по умолчанию, потому что зачем его менять?\n",
    "    cur.execute(\"create table if not exists'gruppa_101' ('surname', 'name', 'subject', 'offset','date')\")\n",
    "    #Создаем таблицу в базе данных\n",
    "\n",
    "    #Без функции \"guard\" БД была неустойчива к инъекциям, например }'; drop table gruppa_101;--'\n",
    "    if choice == 1:\n",
    "        surname = input(\"Surname?\\n \")\n",
    "        name = input(\"Name?\\n \")\n",
    "        subject = input(\"Subject?\\n \")    #1-Вводим данные одного ученика по одному предмету\n",
    "        offset = input (\"Offset?(True or False)\\n \")\n",
    "        date = input(\"Date of the offset?\\n \")\n",
    "        student = [(surname), (name), (subject), (offset), (date)]\n",
    "        sql = f\"insert into 'gruppa_101' values (?,?,?,?,?)\"\n",
    "        cur.execute(sql, student)\n",
    "    elif choice == 2:\n",
    "        sql = \"select * from 'gruppa_101' order by surname\"\n",
    "        cur.execute(sql)\n",
    "        rows = cur.fetchall()   #2-Выводим данные таблицы, отсортированные по фамилии (по алфавиту)\n",
    "        for row in rows:\n",
    "            print(row[0], row[1], row[2], row[3], row[4])\n",
    "    elif choice == 3:\n",
    "        sql = \"delete from gruppa_101\"\n",
    "        cur.execute(sql)\n",
    "        print(\"Вы очистили все данные в таблице\")   #3-осуществить возможность с консоли вводить, что удалять, у меня не получилось\n",
    "    else:\n",
    "        print(\"Вы ошиблись\")\n",
    "\n",
    "    conn.commit()\n",
    "    cur.close()"
   ]
  },
  {
   "cell_type": "code",
   "execution_count": null,
   "metadata": {},
   "outputs": [],
   "source": []
  },
  {
   "cell_type": "code",
   "execution_count": 8,
   "metadata": {},
   "outputs": [],
   "source": [
    "def guard(x):\n",
    "    a = []\n",
    "    for i in range(len(x)):\n",
    "        a.append(x[i])\n",
    "    for i in range(len(x)):\n",
    "        if a[i] == \";\" or a[i] == \"-\" or a[i] == \"*\" or a[i] == \"'\" or a[i] == '#' or a[i] == \"\":\n",
    "            a[i] = \"\"\n",
    "    for i in range(len(x)):\n",
    "        x += a[i]\n",
    "    return x\n"
   ]
  },
  {
   "cell_type": "code",
   "execution_count": null,
   "metadata": {},
   "outputs": [],
   "source": []
  }
 ],
 "metadata": {
  "kernelspec": {
   "display_name": "Python 3",
   "language": "python",
   "name": "python3"
  },
  "language_info": {
   "codemirror_mode": {
    "name": "ipython",
    "version": 3
   },
   "file_extension": ".py",
   "mimetype": "text/x-python",
   "name": "python",
   "nbconvert_exporter": "python",
   "pygments_lexer": "ipython3",
   "version": "3.8.0"
  }
 },
 "nbformat": 4,
 "nbformat_minor": 4
}
