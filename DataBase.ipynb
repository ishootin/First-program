{
 "cells": [
  {
   "cell_type": "code",
   "execution_count": null,
   "metadata": {},
   "outputs": [],
   "source": [
    "import sqlite3 as sql\n",
    "\n",
    "#Создаем локальную базу данных\n",
    "print(\"1 - Добавление\\n2 - Получение\\n3 - Удаление\")\n",
    "choice = int(input(\"> \"))\n",
    "conn = sql.connect('AUstudents.sql')\n",
    "\n",
    "with conn:\n",
    "    cur = conn.cursor()                          #Оставляю тип данных по умолчанию, потому что зачем его менять?\n",
    "    cur.execute(\"create table if not exists'gruppa_101' ('surname', 'name', 'subject', 'offset','date')\")\n",
    "    #Создаем таблицу в базе данных\n",
    "\n",
    "    if choice == 1:\n",
    "        surname = input(\"Surname?\\n \")\n",
    "        name = input(\"Name?\\n \")\n",
    "        subject = input(\"Subject?\\n \")    #1-Вводим данные одного ученика по одному предмету\n",
    "        offset = input (\"Offset?(True or False)\\n \")\n",
    "        date = input(\"Date of the offset?\\n \")\n",
    "        cur.execute(f\"insert into 'gruppa_101' values ('{surname}', '{name}', '{subject}','{offset}', '{date}')\")\n",
    "    elif choice == 2:\n",
    "        cur.execute(\"select * from 'gruppa_101' order by surname\")\n",
    "        rows = cur.fetchall()   #2-Выводим данные таблицы, отсортированные по фамилии (по алфавиту)\n",
    "        for row in rows:\n",
    "            print(row[0], row[1], row[2], row[3], row[4])\n",
    "    elif choice == 3:\n",
    "        cur.execute(\"delete from gruppa_101\")\n",
    "        print(\"Вы очистили все данные в таблице\")   #3-осуществить возможность с консоли вводить, что удалять, у меня не получилось\n",
    "    else:\n",
    "        print(\"Вы ошиблись\")\n",
    "\n",
    "    conn.commit()\n",
    "    cur.close()\n"
   ]
  }
 ],
 "metadata": {
  "kernelspec": {
   "display_name": "Python 3",
   "language": "python",
   "name": "python3"
  },
  "language_info": {
   "codemirror_mode": {
    "name": "ipython",
    "version": 3
   },
   "file_extension": ".py",
   "mimetype": "text/x-python",
   "name": "python",
   "nbconvert_exporter": "python",
   "pygments_lexer": "ipython3",
   "version": "3.8.0"
  }
 },
 "nbformat": 4,
 "nbformat_minor": 4
}
