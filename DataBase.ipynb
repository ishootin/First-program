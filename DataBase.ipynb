{
 "cells": [
  {
   "cell_type": "code",
   "execution_count": 20,
   "metadata": {},
   "outputs": [
    {
     "name": "stdout",
     "output_type": "stream",
     "text": [
      "1 - Добавление\n",
      "2 - Получение\n",
      "3 - Удаление\n"
     ]
    },
    {
     "name": "stdin",
     "output_type": "stream",
     "text": [
      ">  2\n"
     ]
    },
    {
     "name": "stdout",
     "output_type": "stream",
     "text": [
      " drop table gruppa_101  drop table gruppa_101   \n",
      "fg h ghj gh vh\n",
      "} drop table gruppa_101 } drop table gruppa_101 } drop table gruppa_101 } drop table gruppa_101 } drop table gruppa_101\n",
      "Антонов Лимон ро од ол\n",
      "Ишутин Егор про пр пр\n"
     ]
    }
   ],
   "source": [
    "import sqlite3 as sql\n",
    "\n",
    "\n",
    "#Вариант реализации защиты от инъекций мне подсказал Сергей\n",
    "def guard(x):\n",
    "    a = []\n",
    "    for i in range(len(x)):\n",
    "        a.append(x[i])\n",
    "    for i in range(len(x)):\n",
    "        if a[i] == \";\" or a[i] == \"-\" or a[i] == \"*\" or a[i] == \"'\" or a[i] == '#' or a[i] == \"\":\n",
    "            a[i] = \"\"\n",
    "    for i in range(len(x)):\n" 
    "        x += a[i],\n"
    "    return x\n",
    "\n",
    "#Создаем локальную базу данных\n",
    "print(\"1 - Добавление\\n2 - Получение\\n3 - Удаление\")\n",
    "choice = int(input(\"> \"))\n",
    "conn = sql.connect('AUstudents.sql')\n",
    "\n",
    "with conn:\n",
    "    cur = conn.cursor()                          #Оставляю тип данных по умолчанию, потому что зачем его менять?\n",
    "    cur.execute(\"create table if not exists'gruppa_101' ('surname', 'name', 'subject', 'offset','date')\")\n",
    "    #Создаем таблицу в базе данных\n",
    "\n",
    "    #Без функции \"guard\" БД была неустойчива к инъекциям, например }'; drop table gruppa_101;--'\n",
    "    if choice == 1:\n",
    "        surname = guard(input(\"Surname?\\n \"))\n",
    "        name = guard(input(\"Name?\\n \"))\n",
    "        subject = guard(input(\"Subject?\\n \"))    #1-Вводим данные одного ученика по одному предмету\n",
    "        offset = guard(input (\"Offset?(True or False)\\n \"))\n",
    "        date = guard(input(\"Date of the offset?\\n \"))\n",
    "        cur.execute(f\"insert into 'gruppa_101' values ('{surname}', '{name}', '{subject}','{offset}', '{date}')\")\n",
    "    elif choice == 2:\n",
    "        cur.execute(\"select * from 'gruppa_101' order by surname\")\n",
    "        rows = cur.fetchall()   #2-Выводим данные таблицы, отсортированные по фамилии (по алфавиту)\n",
    "        for row in rows:\n",
    "            print(row[0], row[1], row[2], row[3], row[4])\n",
    "    elif choice == 3:\n",
    "        cur.execute(\"delete from gruppa_101\")\n",
    "        print(\"Вы очистили все данные в таблице\")   #3-осуществить возможность с консоли вводить, что удалять, у меня не получилось\n",
    "    else:\n",
    "        print(\"Вы ошиблись\")\n",
    "\n",
    "    conn.commit()\n",
    "    cur.close()"
   ]
  }
 ],
 "metadata": {
  "kernelspec": {
   "display_name": "Python 3",
   "language": "python",
   "name": "python3"
  },
  "language_info": {
   "codemirror_mode": {
    "name": "ipython",
    "version": 3
   },
   "file_extension": ".py",
   "mimetype": "text/x-python",
   "name": "python",
   "nbconvert_exporter": "python",
   "pygments_lexer": "ipython3",
   "version": "3.8.0"
  }
 },
 "nbformat": 4,
 "nbformat_minor": 4
}
