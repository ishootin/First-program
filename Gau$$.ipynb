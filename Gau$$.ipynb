{
 "cells": [
  {
   "cell_type": "code",
   "execution_count": 4,
   "metadata": {},
   "outputs": [
    {
     "name": "stdin",
     "output_type": "stream",
     "text": [
      "Введите количество переменных(уравнений) 4\n"
     ]
    },
    {
     "name": "stdout",
     "output_type": "stream",
     "text": [
      "Пожалуйста, расположите уравнения так, чтобы на диагонали не было нулей\n",
      "Введите коэффициенты (ответ это тоже коэффициент:) при уравнении 1\n",
      "Коэффициент № 1\n"
     ]
    },
    {
     "name": "stdin",
     "output_type": "stream",
     "text": [
      " 5\n"
     ]
    },
    {
     "name": "stdout",
     "output_type": "stream",
     "text": [
      "Коэффициент № 2\n"
     ]
    },
    {
     "name": "stdin",
     "output_type": "stream",
     "text": [
      " 4\n"
     ]
    },
    {
     "name": "stdout",
     "output_type": "stream",
     "text": [
      "Коэффициент № 3\n"
     ]
    },
    {
     "name": "stdin",
     "output_type": "stream",
     "text": [
      " 3\n"
     ]
    },
    {
     "name": "stdout",
     "output_type": "stream",
     "text": [
      "Коэффициент № 4\n"
     ]
    },
    {
     "name": "stdin",
     "output_type": "stream",
     "text": [
      " 5\n"
     ]
    },
    {
     "name": "stdout",
     "output_type": "stream",
     "text": [
      "Коэффициент № 5\n"
     ]
    },
    {
     "name": "stdin",
     "output_type": "stream",
     "text": [
      " 6\n"
     ]
    },
    {
     "name": "stdout",
     "output_type": "stream",
     "text": [
      "Введите коэффициенты (ответ это тоже коэффициент:) при уравнении 2\n",
      "Коэффициент № 1\n"
     ]
    },
    {
     "name": "stdin",
     "output_type": "stream",
     "text": [
      " 8\n"
     ]
    },
    {
     "name": "stdout",
     "output_type": "stream",
     "text": [
      "Коэффициент № 2\n"
     ]
    },
    {
     "name": "stdin",
     "output_type": "stream",
     "text": [
      " 6\n"
     ]
    },
    {
     "name": "stdout",
     "output_type": "stream",
     "text": [
      "Коэффициент № 3\n"
     ]
    },
    {
     "name": "stdin",
     "output_type": "stream",
     "text": [
      " 4\n"
     ]
    },
    {
     "name": "stdout",
     "output_type": "stream",
     "text": [
      "Коэффициент № 4\n"
     ]
    },
    {
     "name": "stdin",
     "output_type": "stream",
     "text": [
      " 3\n"
     ]
    },
    {
     "name": "stdout",
     "output_type": "stream",
     "text": [
      "Коэффициент № 5\n"
     ]
    },
    {
     "name": "stdin",
     "output_type": "stream",
     "text": [
      " 2\n"
     ]
    },
    {
     "name": "stdout",
     "output_type": "stream",
     "text": [
      "Введите коэффициенты (ответ это тоже коэффициент:) при уравнении 3\n",
      "Коэффициент № 1\n"
     ]
    },
    {
     "name": "stdin",
     "output_type": "stream",
     "text": [
      " 1\n"
     ]
    },
    {
     "name": "stdout",
     "output_type": "stream",
     "text": [
      "Коэффициент № 2\n"
     ]
    },
    {
     "name": "stdin",
     "output_type": "stream",
     "text": [
      " 3\n"
     ]
    },
    {
     "name": "stdout",
     "output_type": "stream",
     "text": [
      "Коэффициент № 3\n"
     ]
    },
    {
     "name": "stdin",
     "output_type": "stream",
     "text": [
      " 5\n"
     ]
    },
    {
     "name": "stdout",
     "output_type": "stream",
     "text": [
      "Коэффициент № 4\n"
     ]
    },
    {
     "name": "stdin",
     "output_type": "stream",
     "text": [
      " 7\n"
     ]
    },
    {
     "name": "stdout",
     "output_type": "stream",
     "text": [
      "Коэффициент № 5\n"
     ]
    },
    {
     "name": "stdin",
     "output_type": "stream",
     "text": [
      " 8\n"
     ]
    },
    {
     "name": "stdout",
     "output_type": "stream",
     "text": [
      "Введите коэффициенты (ответ это тоже коэффициент:) при уравнении 4\n",
      "Коэффициент № 1\n"
     ]
    },
    {
     "name": "stdin",
     "output_type": "stream",
     "text": [
      " 9\n"
     ]
    },
    {
     "name": "stdout",
     "output_type": "stream",
     "text": [
      "Коэффициент № 2\n"
     ]
    },
    {
     "name": "stdin",
     "output_type": "stream",
     "text": [
      " 7\n"
     ]
    },
    {
     "name": "stdout",
     "output_type": "stream",
     "text": [
      "Коэффициент № 3\n"
     ]
    },
    {
     "name": "stdin",
     "output_type": "stream",
     "text": [
      " 6\n"
     ]
    },
    {
     "name": "stdout",
     "output_type": "stream",
     "text": [
      "Коэффициент № 4\n"
     ]
    },
    {
     "name": "stdin",
     "output_type": "stream",
     "text": [
      " 5\n"
     ]
    },
    {
     "name": "stdout",
     "output_type": "stream",
     "text": [
      "Коэффициент № 5\n"
     ]
    },
    {
     "name": "stdin",
     "output_type": "stream",
     "text": [
      " 7\n"
     ]
    },
    {
     "name": "stdout",
     "output_type": "stream",
     "text": [
      "Переменная 1  равна  3.0\n",
      "Переменная 2  равна  -4.0\n",
      "Переменная 3  равна  2.0\n",
      "Переменная 4  равна  1.6279069767441865\n",
      "Скорость выполнения обычного метода Гаусса\n",
      "48 µs ± 1.43 µs per loop (mean ± std. dev. of 7 runs, 10000 loops each)\n",
      "Скорость выполнения супер быстрого метода Гаусса\n",
      "2.75 µs ± 43.2 ns per loop (mean ± std. dev. of 7 runs, 100000 loops each)\n"
     ]
    }
   ],
   "source": [
    "import numpy\n",
    "from numba import njit\n",
    "\n",
    "n = int(input('Введите количество переменных(уравнений)'))\n",
    "a = numpy.zeros((n,n+1))\n",
    "\n",
    "#Алгоритм решения СЛАУ (кушает матрицу, выплевывает список(тип данных) решений\n",
    "def Gauss(a):\n",
    "    for i in range(n):\n",
    "        a[i] = a[i]/(a[i][i])\n",
    "        for j in range(n):\n",
    "            if i != j:\n",
    "                a[j] = a[j]-a[i]*a[j][i]\n",
    "    b = []\n",
    "    for i in range(n):\n",
    "        b.append(a[i][n])\n",
    "    return(b)\n",
    "#Тоже самое, но быстрее, потому что Just-in-time)\n",
    "@njit\n",
    "def Fast_Gauss(a):\n",
    "    for i in range(n):\n",
    "        a[i] = a[i]/(a[i][i])\n",
    "        for j in range(n):\n",
    "            if i != j:\n",
    "                a[j] = a[j]-a[i]*a[j][i]\n",
    "    b = []\n",
    "    for i in range(n):\n",
    "        b.append(a[i][n])\n",
    "    return(b)\n",
    "\n",
    "#С нулями проблемка, в моем алгоритме приходится делить на диагональные элементы\n",
    "print('Пожалуйста, расположите уравнения так, чтобы на диагонали не было нулей') \n",
    "for i in range(n):\n",
    "    print('Введите коэффициенты (ответ это тоже коэффициент:) при уравнении', i+1) \n",
    "    for j in range(n+1):\n",
    "        print('Коэффициент №', j+1) #Вводим переменные посимвольно\n",
    "        a[i][j] = input()\n",
    "\n",
    "#Осталось воспользоваться функцией и вывести ответ\n",
    "answer = Fast_Gauss(a)\n",
    "for i in range(n):\n",
    "    print('Переменная',i+1,' равна ',answer[i])\n",
    "\n",
    "#Ну, и сравнить скорость выполнения функций\n",
    "print('Скорость выполнения обычного метода Гаусса')\n",
    "%timeit Gauss(a)\n",
    "print('Скорость выполнения супер быстрого метода Гаусса')\n",
    "%timeit Fast_Gauss(a)"
   ]
  },
  {
   "cell_type": "code",
   "execution_count": null,
   "metadata": {},
   "outputs": [],
   "source": []
  }
 ],
 "metadata": {
  "kernelspec": {
   "display_name": "Python 3",
   "language": "python",
   "name": "python3"
  },
  "language_info": {
   "codemirror_mode": {
    "name": "ipython",
    "version": 3
   },
   "file_extension": ".py",
   "mimetype": "text/x-python",
   "name": "python",
   "nbconvert_exporter": "python",
   "pygments_lexer": "ipython3",
   "version": "3.8.0"
  }
 },
 "nbformat": 4,
 "nbformat_minor": 4
}
